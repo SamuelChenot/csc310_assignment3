{
 "cells": [
  {
   "cell_type": "code",
   "execution_count": 28,
   "metadata": {},
   "outputs": [
    {
     "data": {
      "text/plain": [
       "DecisionTreeClassifier(class_weight=None, criterion='entropy', max_depth=None,\n",
       "                       max_features=None, max_leaf_nodes=None,\n",
       "                       min_impurity_decrease=0.0, min_impurity_split=None,\n",
       "                       min_samples_leaf=1, min_samples_split=2,\n",
       "                       min_weight_fraction_leaf=0.0, presort=False,\n",
       "                       random_state=None, splitter='best')"
      ]
     },
     "execution_count": 28,
     "metadata": {},
     "output_type": "execute_result"
    }
   ],
   "source": [
    "import pandas as pd\n",
    "from sklearn import tree\n",
    "from treeviz import tree_print\n",
    "from sklearn.metrics import accuracy_score\n",
    "\n",
    "df = pd.read_csv(\"tennis.csv\")\n",
    "\n",
    "features_df = df.drop(['play'], axis = 1)\n",
    "\n",
    "target_df = pd.DataFrame(df['play'])\n",
    "\n",
    "dtree = tree.DecisionTreeClassifier(criterion='entropy')\n",
    "\n",
    "dtree.fit(features_df,target_df)"
   ]
  },
  {
   "cell_type": "code",
   "execution_count": 11,
   "metadata": {},
   "outputs": [
    {
     "name": "stdout",
     "output_type": "stream",
     "text": [
      "if outlook_overcast =< 0.5: \n",
      "  |then if humidity =< 82.5: \n",
      "  |  |then if temperature =< 66.5: \n",
      "  |  |  |then no\n",
      "  |  |  |else yes\n",
      "  |  |else if temperature =< 70.5: \n",
      "  |  |  |then yes\n",
      "  |  |  |else no\n",
      "  |else yes\n",
      "<------->\n",
      "Tree Depth:  3\n"
     ]
    }
   ],
   "source": [
    "tree_print(dtree, df)"
   ]
  },
  {
   "cell_type": "code",
   "execution_count": 12,
   "metadata": {},
   "outputs": [],
   "source": [
    "predict_array = dtree.predict(features_df)\n",
    "predicted_labels = pd.DataFrame(predict_array)"
   ]
  },
  {
   "cell_type": "code",
   "execution_count": 13,
   "metadata": {},
   "outputs": [
    {
     "data": {
      "text/plain": [
       "1.0"
      ]
     },
     "execution_count": 13,
     "metadata": {},
     "output_type": "execute_result"
    }
   ],
   "source": [
    "accuracy_score(target_df, predicted_labels)"
   ]
  },
  {
   "cell_type": "code",
   "execution_count": 19,
   "metadata": {},
   "outputs": [
    {
     "data": {
      "text/html": [
       "<div>\n",
       "<style scoped>\n",
       "    .dataframe tbody tr th:only-of-type {\n",
       "        vertical-align: middle;\n",
       "    }\n",
       "\n",
       "    .dataframe tbody tr th {\n",
       "        vertical-align: top;\n",
       "    }\n",
       "\n",
       "    .dataframe thead th {\n",
       "        text-align: right;\n",
       "    }\n",
       "</style>\n",
       "<table border=\"1\" class=\"dataframe\">\n",
       "  <thead>\n",
       "    <tr style=\"text-align: right;\">\n",
       "      <th></th>\n",
       "      <th>seconds</th>\n",
       "      <th>Gfront</th>\n",
       "      <th>Gvert</th>\n",
       "      <th>Glat</th>\n",
       "      <th>ID</th>\n",
       "      <th>RSSI</th>\n",
       "      <th>Phase</th>\n",
       "      <th>Frequency</th>\n",
       "      <th>Label</th>\n",
       "    </tr>\n",
       "  </thead>\n",
       "  <tbody>\n",
       "    <tr>\n",
       "      <td>0</td>\n",
       "      <td>0.00</td>\n",
       "      <td>-0.044557</td>\n",
       "      <td>0.93932</td>\n",
       "      <td>0.111750</td>\n",
       "      <td>1</td>\n",
       "      <td>-58.0</td>\n",
       "      <td>0.17794</td>\n",
       "      <td>920.75</td>\n",
       "      <td>4</td>\n",
       "    </tr>\n",
       "    <tr>\n",
       "      <td>1</td>\n",
       "      <td>0.25</td>\n",
       "      <td>-0.044557</td>\n",
       "      <td>0.93932</td>\n",
       "      <td>0.111750</td>\n",
       "      <td>1</td>\n",
       "      <td>-60.0</td>\n",
       "      <td>0.46940</td>\n",
       "      <td>920.25</td>\n",
       "      <td>4</td>\n",
       "    </tr>\n",
       "    <tr>\n",
       "      <td>2</td>\n",
       "      <td>0.75</td>\n",
       "      <td>-0.044557</td>\n",
       "      <td>0.93932</td>\n",
       "      <td>0.111750</td>\n",
       "      <td>3</td>\n",
       "      <td>-68.5</td>\n",
       "      <td>0.15033</td>\n",
       "      <td>923.25</td>\n",
       "      <td>1</td>\n",
       "    </tr>\n",
       "    <tr>\n",
       "      <td>3</td>\n",
       "      <td>1.50</td>\n",
       "      <td>-0.044557</td>\n",
       "      <td>0.93932</td>\n",
       "      <td>0.111750</td>\n",
       "      <td>4</td>\n",
       "      <td>-57.5</td>\n",
       "      <td>5.10820</td>\n",
       "      <td>925.75</td>\n",
       "      <td>1</td>\n",
       "    </tr>\n",
       "    <tr>\n",
       "      <td>4</td>\n",
       "      <td>2.50</td>\n",
       "      <td>0.612070</td>\n",
       "      <td>0.89339</td>\n",
       "      <td>0.009122</td>\n",
       "      <td>4</td>\n",
       "      <td>-57.5</td>\n",
       "      <td>4.39490</td>\n",
       "      <td>920.75</td>\n",
       "      <td>1</td>\n",
       "    </tr>\n",
       "    <tr>\n",
       "      <td>...</td>\n",
       "      <td>...</td>\n",
       "      <td>...</td>\n",
       "      <td>...</td>\n",
       "      <td>...</td>\n",
       "      <td>...</td>\n",
       "      <td>...</td>\n",
       "      <td>...</td>\n",
       "      <td>...</td>\n",
       "      <td>...</td>\n",
       "    </tr>\n",
       "    <tr>\n",
       "      <td>255</td>\n",
       "      <td>297.75</td>\n",
       "      <td>1.057600</td>\n",
       "      <td>0.16995</td>\n",
       "      <td>-0.196130</td>\n",
       "      <td>4</td>\n",
       "      <td>-63.0</td>\n",
       "      <td>6.07610</td>\n",
       "      <td>921.75</td>\n",
       "      <td>3</td>\n",
       "    </tr>\n",
       "    <tr>\n",
       "      <td>256</td>\n",
       "      <td>298.25</td>\n",
       "      <td>1.057600</td>\n",
       "      <td>0.16995</td>\n",
       "      <td>-0.196130</td>\n",
       "      <td>1</td>\n",
       "      <td>-58.5</td>\n",
       "      <td>5.69870</td>\n",
       "      <td>922.25</td>\n",
       "      <td>3</td>\n",
       "    </tr>\n",
       "    <tr>\n",
       "      <td>257</td>\n",
       "      <td>299.00</td>\n",
       "      <td>0.342380</td>\n",
       "      <td>0.97377</td>\n",
       "      <td>0.066138</td>\n",
       "      <td>4</td>\n",
       "      <td>-58.0</td>\n",
       "      <td>5.92880</td>\n",
       "      <td>921.25</td>\n",
       "      <td>1</td>\n",
       "    </tr>\n",
       "    <tr>\n",
       "      <td>258</td>\n",
       "      <td>299.75</td>\n",
       "      <td>0.342380</td>\n",
       "      <td>0.97377</td>\n",
       "      <td>0.066138</td>\n",
       "      <td>1</td>\n",
       "      <td>-58.5</td>\n",
       "      <td>5.42720</td>\n",
       "      <td>924.25</td>\n",
       "      <td>1</td>\n",
       "    </tr>\n",
       "    <tr>\n",
       "      <td>259</td>\n",
       "      <td>300.00</td>\n",
       "      <td>0.342380</td>\n",
       "      <td>0.97377</td>\n",
       "      <td>0.066138</td>\n",
       "      <td>1</td>\n",
       "      <td>-57.0</td>\n",
       "      <td>5.03300</td>\n",
       "      <td>920.25</td>\n",
       "      <td>4</td>\n",
       "    </tr>\n",
       "  </tbody>\n",
       "</table>\n",
       "<p>260 rows × 9 columns</p>\n",
       "</div>"
      ],
      "text/plain": [
       "     seconds    Gfront    Gvert      Glat  ID  RSSI    Phase  Frequency  Label\n",
       "0       0.00 -0.044557  0.93932  0.111750   1 -58.0  0.17794     920.75      4\n",
       "1       0.25 -0.044557  0.93932  0.111750   1 -60.0  0.46940     920.25      4\n",
       "2       0.75 -0.044557  0.93932  0.111750   3 -68.5  0.15033     923.25      1\n",
       "3       1.50 -0.044557  0.93932  0.111750   4 -57.5  5.10820     925.75      1\n",
       "4       2.50  0.612070  0.89339  0.009122   4 -57.5  4.39490     920.75      1\n",
       "..       ...       ...      ...       ...  ..   ...      ...        ...    ...\n",
       "255   297.75  1.057600  0.16995 -0.196130   4 -63.0  6.07610     921.75      3\n",
       "256   298.25  1.057600  0.16995 -0.196130   1 -58.5  5.69870     922.25      3\n",
       "257   299.00  0.342380  0.97377  0.066138   4 -58.0  5.92880     921.25      1\n",
       "258   299.75  0.342380  0.97377  0.066138   1 -58.5  5.42720     924.25      1\n",
       "259   300.00  0.342380  0.97377  0.066138   1 -57.0  5.03300     920.25      4\n",
       "\n",
       "[260 rows x 9 columns]"
      ]
     },
     "execution_count": 19,
     "metadata": {},
     "output_type": "execute_result"
    }
   ],
   "source": [
    "df2 = pd.read_csv(\"oldpeople.csv\")\n",
    "df2"
   ]
  },
  {
   "cell_type": "code",
   "execution_count": 30,
   "metadata": {},
   "outputs": [],
   "source": [
    "features_df2 = df2.drop(['Label'], axis=1)"
   ]
  },
  {
   "cell_type": "code",
   "execution_count": 31,
   "metadata": {},
   "outputs": [
    {
     "data": {
      "text/html": [
       "<div>\n",
       "<style scoped>\n",
       "    .dataframe tbody tr th:only-of-type {\n",
       "        vertical-align: middle;\n",
       "    }\n",
       "\n",
       "    .dataframe tbody tr th {\n",
       "        vertical-align: top;\n",
       "    }\n",
       "\n",
       "    .dataframe thead th {\n",
       "        text-align: right;\n",
       "    }\n",
       "</style>\n",
       "<table border=\"1\" class=\"dataframe\">\n",
       "  <thead>\n",
       "    <tr style=\"text-align: right;\">\n",
       "      <th></th>\n",
       "      <th>seconds</th>\n",
       "      <th>Gfront</th>\n",
       "      <th>Gvert</th>\n",
       "      <th>Glat</th>\n",
       "      <th>ID</th>\n",
       "      <th>RSSI</th>\n",
       "      <th>Phase</th>\n",
       "      <th>Frequency</th>\n",
       "    </tr>\n",
       "  </thead>\n",
       "  <tbody>\n",
       "    <tr>\n",
       "      <td>0</td>\n",
       "      <td>0.00</td>\n",
       "      <td>-0.044557</td>\n",
       "      <td>0.93932</td>\n",
       "      <td>0.111750</td>\n",
       "      <td>1</td>\n",
       "      <td>-58.0</td>\n",
       "      <td>0.17794</td>\n",
       "      <td>920.75</td>\n",
       "    </tr>\n",
       "    <tr>\n",
       "      <td>1</td>\n",
       "      <td>0.25</td>\n",
       "      <td>-0.044557</td>\n",
       "      <td>0.93932</td>\n",
       "      <td>0.111750</td>\n",
       "      <td>1</td>\n",
       "      <td>-60.0</td>\n",
       "      <td>0.46940</td>\n",
       "      <td>920.25</td>\n",
       "    </tr>\n",
       "    <tr>\n",
       "      <td>2</td>\n",
       "      <td>0.75</td>\n",
       "      <td>-0.044557</td>\n",
       "      <td>0.93932</td>\n",
       "      <td>0.111750</td>\n",
       "      <td>3</td>\n",
       "      <td>-68.5</td>\n",
       "      <td>0.15033</td>\n",
       "      <td>923.25</td>\n",
       "    </tr>\n",
       "    <tr>\n",
       "      <td>3</td>\n",
       "      <td>1.50</td>\n",
       "      <td>-0.044557</td>\n",
       "      <td>0.93932</td>\n",
       "      <td>0.111750</td>\n",
       "      <td>4</td>\n",
       "      <td>-57.5</td>\n",
       "      <td>5.10820</td>\n",
       "      <td>925.75</td>\n",
       "    </tr>\n",
       "    <tr>\n",
       "      <td>4</td>\n",
       "      <td>2.50</td>\n",
       "      <td>0.612070</td>\n",
       "      <td>0.89339</td>\n",
       "      <td>0.009122</td>\n",
       "      <td>4</td>\n",
       "      <td>-57.5</td>\n",
       "      <td>4.39490</td>\n",
       "      <td>920.75</td>\n",
       "    </tr>\n",
       "    <tr>\n",
       "      <td>...</td>\n",
       "      <td>...</td>\n",
       "      <td>...</td>\n",
       "      <td>...</td>\n",
       "      <td>...</td>\n",
       "      <td>...</td>\n",
       "      <td>...</td>\n",
       "      <td>...</td>\n",
       "      <td>...</td>\n",
       "    </tr>\n",
       "    <tr>\n",
       "      <td>255</td>\n",
       "      <td>297.75</td>\n",
       "      <td>1.057600</td>\n",
       "      <td>0.16995</td>\n",
       "      <td>-0.196130</td>\n",
       "      <td>4</td>\n",
       "      <td>-63.0</td>\n",
       "      <td>6.07610</td>\n",
       "      <td>921.75</td>\n",
       "    </tr>\n",
       "    <tr>\n",
       "      <td>256</td>\n",
       "      <td>298.25</td>\n",
       "      <td>1.057600</td>\n",
       "      <td>0.16995</td>\n",
       "      <td>-0.196130</td>\n",
       "      <td>1</td>\n",
       "      <td>-58.5</td>\n",
       "      <td>5.69870</td>\n",
       "      <td>922.25</td>\n",
       "    </tr>\n",
       "    <tr>\n",
       "      <td>257</td>\n",
       "      <td>299.00</td>\n",
       "      <td>0.342380</td>\n",
       "      <td>0.97377</td>\n",
       "      <td>0.066138</td>\n",
       "      <td>4</td>\n",
       "      <td>-58.0</td>\n",
       "      <td>5.92880</td>\n",
       "      <td>921.25</td>\n",
       "    </tr>\n",
       "    <tr>\n",
       "      <td>258</td>\n",
       "      <td>299.75</td>\n",
       "      <td>0.342380</td>\n",
       "      <td>0.97377</td>\n",
       "      <td>0.066138</td>\n",
       "      <td>1</td>\n",
       "      <td>-58.5</td>\n",
       "      <td>5.42720</td>\n",
       "      <td>924.25</td>\n",
       "    </tr>\n",
       "    <tr>\n",
       "      <td>259</td>\n",
       "      <td>300.00</td>\n",
       "      <td>0.342380</td>\n",
       "      <td>0.97377</td>\n",
       "      <td>0.066138</td>\n",
       "      <td>1</td>\n",
       "      <td>-57.0</td>\n",
       "      <td>5.03300</td>\n",
       "      <td>920.25</td>\n",
       "    </tr>\n",
       "  </tbody>\n",
       "</table>\n",
       "<p>260 rows × 8 columns</p>\n",
       "</div>"
      ],
      "text/plain": [
       "     seconds    Gfront    Gvert      Glat  ID  RSSI    Phase  Frequency\n",
       "0       0.00 -0.044557  0.93932  0.111750   1 -58.0  0.17794     920.75\n",
       "1       0.25 -0.044557  0.93932  0.111750   1 -60.0  0.46940     920.25\n",
       "2       0.75 -0.044557  0.93932  0.111750   3 -68.5  0.15033     923.25\n",
       "3       1.50 -0.044557  0.93932  0.111750   4 -57.5  5.10820     925.75\n",
       "4       2.50  0.612070  0.89339  0.009122   4 -57.5  4.39490     920.75\n",
       "..       ...       ...      ...       ...  ..   ...      ...        ...\n",
       "255   297.75  1.057600  0.16995 -0.196130   4 -63.0  6.07610     921.75\n",
       "256   298.25  1.057600  0.16995 -0.196130   1 -58.5  5.69870     922.25\n",
       "257   299.00  0.342380  0.97377  0.066138   4 -58.0  5.92880     921.25\n",
       "258   299.75  0.342380  0.97377  0.066138   1 -58.5  5.42720     924.25\n",
       "259   300.00  0.342380  0.97377  0.066138   1 -57.0  5.03300     920.25\n",
       "\n",
       "[260 rows x 8 columns]"
      ]
     },
     "execution_count": 31,
     "metadata": {},
     "output_type": "execute_result"
    }
   ],
   "source": [
    "features_df2"
   ]
  },
  {
   "cell_type": "code",
   "execution_count": 34,
   "metadata": {},
   "outputs": [],
   "source": [
    "target_df2 = pd.DataFrame(df2['Label'])\n",
    "dtree2 = tree.DecisionTreeClassifier(criterion='entropy')"
   ]
  },
  {
   "cell_type": "code",
   "execution_count": 35,
   "metadata": {},
   "outputs": [
    {
     "data": {
      "text/plain": [
       "DecisionTreeClassifier(class_weight=None, criterion='entropy', max_depth=None,\n",
       "                       max_features=None, max_leaf_nodes=None,\n",
       "                       min_impurity_decrease=0.0, min_impurity_split=None,\n",
       "                       min_samples_leaf=1, min_samples_split=2,\n",
       "                       min_weight_fraction_leaf=0.0, presort=False,\n",
       "                       random_state=None, splitter='best')"
      ]
     },
     "execution_count": 35,
     "metadata": {},
     "output_type": "execute_result"
    }
   ],
   "source": [
    "dtree2.fit(features_df2,target_df2)"
   ]
  },
  {
   "cell_type": "code",
   "execution_count": 36,
   "metadata": {},
   "outputs": [
    {
     "name": "stdout",
     "output_type": "stream",
     "text": [
      "if Gfront =< 0.8172650039196014: \n",
      "  |then if seconds =< 147.25: \n",
      "  |  |then if seconds =< 0.5: \n",
      "  |  |  |then 4\n",
      "  |  |  |else 1\n",
      "  |  |else if seconds =< 239.5: \n",
      "  |  |  |then if seconds =< 157.25: \n",
      "  |  |  |  |then 4\n",
      "  |  |  |  |else 2\n",
      "  |  |  |else if seconds =< 249.0: \n",
      "  |  |  |  |then 4\n",
      "  |  |  |  |else if RSSI =< -57.5: \n",
      "  |  |  |  |  |then 1\n",
      "  |  |  |  |  |else 4\n",
      "  |else 3\n",
      "<------------->\n",
      "Tree Depth:  5\n"
     ]
    }
   ],
   "source": [
    "tree_print(dtree2, df2)"
   ]
  },
  {
   "cell_type": "code",
   "execution_count": 40,
   "metadata": {},
   "outputs": [],
   "source": [
    "predict_array = dtree2.predict(features_df2)\n",
    "predicted_labels2 = pd.DataFrame(predict_array)"
   ]
  },
  {
   "cell_type": "code",
   "execution_count": 41,
   "metadata": {},
   "outputs": [
    {
     "data": {
      "text/plain": [
       "1.0"
      ]
     },
     "execution_count": 41,
     "metadata": {},
     "output_type": "execute_result"
    }
   ],
   "source": [
    "accuracy_score(target_df2, predicted_labels2)"
   ]
  },
  {
   "cell_type": "code",
   "execution_count": null,
   "metadata": {},
   "outputs": [],
   "source": []
  }
 ],
 "metadata": {
  "kernelspec": {
   "display_name": "Python 3.7.4 64-bit ('base': conda)",
   "language": "python",
   "name": "python37464bitbasecondaf868310d2926413a9937d076c47c896a"
  },
  "language_info": {
   "codemirror_mode": {
    "name": "ipython",
    "version": 3
   },
   "file_extension": ".py",
   "mimetype": "text/x-python",
   "name": "python",
   "nbconvert_exporter": "python",
   "pygments_lexer": "ipython3",
   "version": "3.7.4"
  }
 },
 "nbformat": 4,
 "nbformat_minor": 2
}
